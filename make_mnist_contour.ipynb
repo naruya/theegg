{
 "cells": [
  {
   "cell_type": "code",
   "execution_count": 1,
   "metadata": {},
   "outputs": [
    {
     "name": "stderr",
     "output_type": "stream",
     "text": [
      "Using TensorFlow backend.\n"
     ]
    },
    {
     "data": {
      "text/plain": [
       "<Figure size 640x480 with 1 Axes>"
      ]
     },
     "metadata": {},
     "output_type": "display_data"
    }
   ],
   "source": [
    "import keras\n",
    "import matplotlib.pyplot as plt\n",
    "import numpy as np\n",
    "from copy import deepcopy\n",
    "import pickle\n",
    "(mnist,_),(_,_) = keras.datasets.mnist.load_data() # (60000, 28, 28)\n",
    "\n",
    "x = mnist[0]; plt.imshow(x); plt.show()"
   ]
  },
  {
   "cell_type": "code",
   "execution_count": 2,
   "metadata": {},
   "outputs": [],
   "source": [
    "directions = [[-1,0],[0,1],[1,0],[0,-1]] # ↑, →, ↓, ←\n",
    "d_char = [\"↑\", \"→\", \"↓\", \"←\"]\n",
    "\n",
    "def check(x, p, d_now, d):\n",
    "    d_next = (d_now+d)%4 # turn right d times\n",
    "    d = directions[d_next]\n",
    "    _p = [p[0]+d[0], p[1]+d[1]]\n",
    "    return x[tuple(_p)]\n",
    "\n",
    "def move(p, d_now, d):\n",
    "    d_next = (d_now+d)%4\n",
    "    d = directions[d_next]    \n",
    "    p = [p[0]+d[0], p[1]+d[1]]\n",
    "    return p, d_next\n",
    "\n",
    "def make_contour(x, DEMO=False):\n",
    "    x = x/255\n",
    "    x = np.where(x<0.01, 0,1)\n",
    "    x = np.pad(x,[(1,1),(1,1)],\"constant\")\n",
    "\n",
    "    while True:\n",
    "        change = 0\n",
    "        _x = x\n",
    "        for i in range(1,29):\n",
    "            for j in range(1,29):\n",
    "                if x[i,j] == 1 and x[i-1,j] + x[i+1,j] + x[i,j-1] + x[i,j+1] == 1:\n",
    "                    _x[i, j] = 0\n",
    "                    change += 1\n",
    "        x = _x\n",
    "        if change == 0: break\n",
    "\n",
    "    if DEMO:\n",
    "        print(x.shape); plt.imshow(x); plt.show()\n",
    "\n",
    "    p = None\n",
    "    for i in range(1,29):\n",
    "        for j in range(1,29):\n",
    "            if x[i,j] == 1:\n",
    "                p = [i,j]\n",
    "                break\n",
    "            if not type(p) == type(None): break\n",
    "        if not type(p) == type(None): break\n",
    "\n",
    "    d_temp = 0\n",
    "    for d in range(4):\n",
    "        if check(x, p, d_temp, d) == 0:\n",
    "            # 壁に向かって右側が前。\n",
    "            d_now = (d+1)%4\n",
    "            break\n",
    "\n",
    "    if DEMO:\n",
    "        print(\"initial position:\", p)\n",
    "        print(\"initial direction:\", d_char[d_now])\n",
    "    \n",
    "    v = [p] # vertices\n",
    "\n",
    "    \"\"\"\n",
    "    - 常に左手（globalな向きに注意）を壁につける\n",
    "    - 左は常に開いてない。\n",
    "    - 前が開いてたら前。\n",
    "    - 前が開いてなかったら右。\n",
    "    - 前処理をしているので左、右、前が詰まっていることはない。\n",
    "    \"\"\"\n",
    "    while True:\n",
    "        # check left\n",
    "        if check(x, p, d_now, 3) == 1:\n",
    "            p, d_now = move(p, d_now, 3)\n",
    "        # check forward\n",
    "        elif check(x, p, d_now, 0) == 1:\n",
    "            p, d_now = move(p, d_now, 0)\n",
    "        # check right\n",
    "        elif check(x, p, d_now, 1) == 1:\n",
    "            p, d_now = move(p, d_now, 1)\n",
    "        else:\n",
    "            raise \"unexpected\"\n",
    "        v.append(p)\n",
    "        if p == v[0]:\n",
    "            break\n",
    "    if DEMO:\n",
    "        plt.figure(figsize=(3,3))\n",
    "        for i in range(len(v)-1):\n",
    "            plt.plot([v[i][1],v[i+1][1]] , [-v[i][0],-v[i+1][0]])\n",
    "        plt.show()\n",
    "    \n",
    "    return v"
   ]
  },
  {
   "cell_type": "code",
   "execution_count": 3,
   "metadata": {
    "scrolled": false
   },
   "outputs": [
    {
     "name": "stdout",
     "output_type": "stream",
     "text": [
      "(30, 30)\n"
     ]
    },
    {
     "data": {
      "image/png": "[encoded data removed]",
      "text/plain": [
       "<Figure size 432x288 with 1 Axes>"
      ]
     },
     "metadata": {},
     "output_type": "display_data"
    },
    {
     "name": "stdout",
     "output_type": "stream",
     "text": [
      "initial position: [6, 13]\n",
      "initial direction: →\n"
     ]
    },
    {
     "data": {
      "image/png": "[encoded data removed]",
      "text/plain": [
       "<Figure size 216x216 with 1 Axes>"
      ]
     },
     "metadata": {},
     "output_type": "display_data"
    }
   ],
   "source": [
    "v = make_contour(mnist[0], DEMO=True)"
   ]
  },
  {
   "cell_type": "code",
   "execution_count": 4,
   "metadata": {},
   "outputs": [],
   "source": [
    "for i in range(10):\n",
    "    v = make_contour(mnist[i], DEMO=False)\n",
    "    with open('data/sample_contour/mnist' + str(i) + '.pkl', mode='wb') as f:\n",
    "        pickle.dump(v, f)"
   ]
  },
  {
   "cell_type": "code",
   "execution_count": null,
   "metadata": {},
   "outputs": [],
   "source": []
  }
 ],
 "metadata": {
  "kernelspec": {
   "display_name": "Python 3",
   "language": "python",
   "name": "python3"
  },
  "language_info": {
   "codemirror_mode": {
    "name": "ipython",
    "version": 3
   },
   "file_extension": ".py",
   "mimetype": "text/x-python",
   "name": "python",
   "nbconvert_exporter": "python",
   "pygments_lexer": "ipython3",
   "version": "3.6.5"
  }
 },
 "nbformat": 4,
 "nbformat_minor": 2
}
