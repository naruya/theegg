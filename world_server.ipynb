{
 "cells": [
  {
   "cell_type": "markdown",
   "metadata": {},
   "source": [
    "### 座標情報をpostで受け取る\n",
    "### 接触等を見つける\n",
    "### requestが来たら全部のエージェントの位置情報を返す\n",
    "### シェーダー処理とかはローカル（ビューアー）で行ってもらう。（見える位置とかに寄る？）\n",
    "### 2つのオブジェクト同士が内部で重なりがあるなら、それらの境界面同士も必ず重なりがある。（包含関係にない場合）"
   ]
  },
  {
   "cell_type": "code",
   "execution_count": null,
   "metadata": {},
   "outputs": [],
   "source": [
    "import socket\n",
    "import time\n",
    "import numpy as np\n",
    "import json\n",
    "import cv2\n",
    "from scipy.sparse import lil_matrix, csr_matrix\n",
    "from collections import OrderedDict\n",
    "\n",
    "db = {} # Don't use OrderedDict\n",
    "\n",
    "PORT = 4423\n",
    "with socket.socket(socket.AF_INET, socket.SOCK_STREAM) as s:\n",
    "    s.bind(('127.0.0.1', PORT))\n",
    "    s.listen(1)\n",
    "    while True:\n",
    "        conn, addr = s.accept()\n",
    "        with conn:\n",
    "            while True:\n",
    "                try:\n",
    "                    rec = conn.recv(65536)\n",
    "                except:\n",
    "                    continue\n",
    "                if not rec:\n",
    "                    break\n",
    "                rec = json.loads(rec)\n",
    "                \n",
    "                \n",
    "                if rec['queue'] == 'post':\n",
    "                    data = rec['data']\n",
    "                    if not data['name'] in db.keys():\n",
    "                        res = json.dumps({\n",
    "                            'message': 'hello '+data['name']+' san.'}).encode()\n",
    "                    conn.sendall(res)\n",
    "                    db[data['name']] = data['vertices']\n",
    "                elif rec['queue'] == 'get_all':\n",
    "                    res = json.dumps({'data': db}).encode()\n",
    "                    conn.sendall(res)\n",
    "#                 elif rec['queue'] == 'get_around':\n",
    "#                     colors = \n",
    "                    \n",
    "#                     key = rec['key']\n",
    "#                     res = json.dumps({'data': db}).encode()\n",
    "#                     conn.sendall(res)"
   ]
  },
  {
   "cell_type": "code",
   "execution_count": 7,
   "metadata": {},
   "outputs": [
    {
     "data": {
      "text/plain": [
       "dict_keys(['mnist0', 'mnist1', 'mnist2', 'mnist3'])"
      ]
     },
     "execution_count": 7,
     "metadata": {},
     "output_type": "execute_result"
    }
   ],
   "source": [
    "db.keys()"
   ]
  },
  {
   "cell_type": "code",
   "execution_count": 143,
   "metadata": {
    "scrolled": true
   },
   "outputs": [],
   "source": [
    "contours = np.zeros([480, 640])\n",
    "for k, v in enumerate(db.values()):\n",
    "    for i in range(len(v)-1):\n",
    "        cv2.line(contours, (v[i][1],v[i][0]), (v[i+1][1],v[i+1][0]), (k+1), 1)\n",
    "_contours = lil_matrix(contours).tocsr()"
   ]
  },
  {
   "cell_type": "code",
   "execution_count": 144,
   "metadata": {
    "scrolled": true
   },
   "outputs": [],
   "source": [
    "v = db['mnist0']\n",
    "contour = np.zeros([480, 640])\n",
    "for i in range(len(v)-1):\n",
    "    cv2.line(contour, (v[i][1],v[i][0]), (v[i+1][1],v[i+1][0]), (1), 1)\n",
    "\n",
    "_contour = cv2.dilate(contour,np.ones((2,2)))\n",
    "contour = _contour - contour\n",
    "_contour = lil_matrix(contour).tocsr()"
   ]
  },
  {
   "cell_type": "code",
   "execution_count": 145,
   "metadata": {},
   "outputs": [],
   "source": [
    "overlaps = _contours.multiply(_contour)\n",
    "overlaps = overlaps.toarray()"
   ]
  },
  {
   "cell_type": "code",
   "execution_count": 146,
   "metadata": {},
   "outputs": [
    {
     "data": {
      "text/plain": [
       "array([0., 3.])"
      ]
     },
     "execution_count": 146,
     "metadata": {},
     "output_type": "execute_result"
    }
   ],
   "source": [
    "np.unique(overlaps)"
   ]
  },
  {
   "cell_type": "code",
   "execution_count": 147,
   "metadata": {},
   "outputs": [
    {
     "ename": "TypeError",
     "evalue": "'dict_keys' object does not support indexing",
     "output_type": "error",
     "traceback": [
      "\u001b[0;31m---------------------------------------------------------------------------\u001b[0m",
      "\u001b[0;31mTypeError\u001b[0m                                 Traceback (most recent call last)",
      "\u001b[0;32m<ipython-input-147-18abc8409d26>\u001b[0m in \u001b[0;36m<module>\u001b[0;34m()\u001b[0m\n\u001b[0;32m----> 1\u001b[0;31m \u001b[0mprint\u001b[0m\u001b[0;34m(\u001b[0m\u001b[0mdb\u001b[0m\u001b[0;34m.\u001b[0m\u001b[0mkeys\u001b[0m\u001b[0;34m(\u001b[0m\u001b[0;34m)\u001b[0m\u001b[0;34m[\u001b[0m\u001b[0;36m3\u001b[0m\u001b[0;34m]\u001b[0m\u001b[0;34m)\u001b[0m\u001b[0;34m\u001b[0m\u001b[0m\n\u001b[0m",
      "\u001b[0;31mTypeError\u001b[0m: 'dict_keys' object does not support indexing"
     ]
    }
   ],
   "source": []
  },
  {
   "attachments": {
    "Screenshot%20from%202018-11-24%2017-48-56.png": {
     "image/png": "[encoded data removed]"
    }
   },
   "cell_type": "markdown",
   "metadata": {},
   "source": [
    "### 輪郭の輪郭\n",
    "- 内側か外側かはわからない\n",
    "![Screenshot%20from%202018-11-24%2017-48-56.png](attachment:Screenshot%20from%202018-11-24%2017-48-56.png)"
   ]
  },
  {
   "cell_type": "code",
   "execution_count": 125,
   "metadata": {},
   "outputs": [],
   "source": [
    "cv2.destroyAllWindows()"
   ]
  },
  {
   "cell_type": "code",
   "execution_count": 37,
   "metadata": {},
   "outputs": [
    {
     "data": {
      "text/plain": [
       "(dict_keys([]), {})"
      ]
     },
     "execution_count": 37,
     "metadata": {},
     "output_type": "execute_result"
    }
   ],
   "source": [
    "db.keys(), db"
   ]
  },
  {
   "cell_type": "code",
   "execution_count": null,
   "metadata": {},
   "outputs": [],
   "source": []
  },
  {
   "cell_type": "code",
   "execution_count": null,
   "metadata": {},
   "outputs": [],
   "source": [
    "colors = {key: (i%255**2, i//255, ) for i,key in enumerate(db.keys())}"
   ]
  },
  {
   "cell_type": "markdown",
   "metadata": {},
   "source": [
    "- ワールドのレンダリングは行う。\n",
    "- 全部を一つのfigureにまとめてプロットしておく。\n",
    "- camera座標を受け取ると、responseを返す・"
   ]
  }
 ],
 "metadata": {
  "kernelspec": {
   "display_name": "Python 3",
   "language": "python",
   "name": "python3"
  },
  "language_info": {
   "codemirror_mode": {
    "name": "ipython",
    "version": 3
   },
   "file_extension": ".py",
   "mimetype": "text/x-python",
   "name": "python",
   "nbconvert_exporter": "python",
   "pygments_lexer": "ipython3",
   "version": "3.6.5"
  }
 },
 "nbformat": 4,
 "nbformat_minor": 2
}
