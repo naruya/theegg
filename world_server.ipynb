{
 "cells": [
  {
   "cell_type": "markdown",
   "metadata": {},
   "source": [
    "### 座標情報をpostで受け取る\n",
    "### 接触等を見つける\n",
    "### requestが来たら全部のエージェントの位置情報を返す\n",
    "### シェーダー処理とかはローカルで行ってもらう。（見える一とかに寄る？）"
   ]
  },
  {
   "cell_type": "code",
   "execution_count": null,
   "metadata": {},
   "outputs": [],
   "source": [
    "import socket\n",
    "import time\n",
    "import numpy as np\n",
    "import json\n",
    "db = {}\n",
    "\n",
    "PORT = 4424\n",
    "with socket.socket(socket.AF_INET, socket.SOCK_STREAM) as s:\n",
    "    s.bind(('127.0.0.1', PORT))\n",
    "    s.listen(1)\n",
    "    while True:\n",
    "        conn, addr = s.accept()\n",
    "        with conn:\n",
    "            while True:\n",
    "                try:\n",
    "                    rec = conn.recv(65536)\n",
    "                except:\n",
    "                    continue\n",
    "                if not rec:\n",
    "                    break\n",
    "                rec = json.loads(rec)\n",
    "                if rec['queue'] == 'post':\n",
    "                    data = rec['data']\n",
    "                    if not data['name'] in db.keys():\n",
    "                        res = json.dumps({\n",
    "                            'message': 'hello '+data['name']+' san.'}).encode()\n",
    "                    conn.sendall(res)\n",
    "                    db[data['name']] = data['vertices']\n",
    "                elif rec['queue'] == 'get':\n",
    "                    res = json.dumps({'data': db}).encode()\n",
    "                    conn.sendall(res)"
   ]
  },
  {
   "cell_type": "markdown",
   "metadata": {},
   "source": [
    "- ワールドのレンダリングは行う。\n",
    "- 全部を一つのfigureにまとめてプロットしておく。\n",
    "- camera座標を受け取ると、responseを返す・"
   ]
  }
 ],
 "metadata": {
  "kernelspec": {
   "display_name": "Python 3",
   "language": "python",
   "name": "python3"
  },
  "language_info": {
   "codemirror_mode": {
    "name": "ipython",
    "version": 3
   },
   "file_extension": ".py",
   "mimetype": "text/x-python",
   "name": "python",
   "nbconvert_exporter": "python",
   "pygments_lexer": "ipython3",
   "version": "3.6.5"
  }
 },
 "nbformat": 4,
 "nbformat_minor": 2
}
