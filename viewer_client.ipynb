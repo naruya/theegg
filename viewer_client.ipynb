{
 "cells": [
  {
   "cell_type": "code",
   "execution_count": 1,
   "metadata": {},
   "outputs": [
    {
     "name": "stdout",
     "output_type": "stream",
     "text": [
      "dict_keys([])\n"
     ]
    }
   ],
   "source": [
    "import socket\n",
    "import json\n",
    "PORT = 4424\n",
    "\n",
    "data = {\"queue\": \"get\"}\n",
    "data = json.dumps(data).encode()\n",
    "\n",
    "\n",
    "with socket.socket(socket.AF_INET, socket.SOCK_STREAM) as s:\n",
    "    s.connect(('127.0.0.1', PORT))\n",
    "    s.sendall(data)\n",
    "    data = s.recv(65536)\n",
    "    rec = json.loads(data)\n",
    "    print(rec['data'].keys())\n",
    "\n",
    "agents = rec['data']\n",
    "\n",
    "colors = [(0,0,0), (0,0,127), (0,0,255), \n",
    "          (0,127,0), (0,127,127), (0,127,255), \n",
    "          (0,255,0), (0,255,127), (0,255,255), \n",
    "          (127,0,0)]"
   ]
  },
  {
   "cell_type": "code",
   "execution_count": null,
   "metadata": {},
   "outputs": [],
   "source": [
    "import numpy as np\n",
    "import cv2\n",
    "from copy import deepcopy\n",
    "\n",
    "\n",
    "back_img = cv2.imread('data/back.png')\n",
    "back_img = cv2.resize(back_img, (640, 480))\n",
    "\n",
    "for t in range(100000):\n",
    "    with socket.socket(socket.AF_INET, socket.SOCK_STREAM) as s:\n",
    "        try:\n",
    "            s.connect(('127.0.0.1', PORT))\n",
    "            data = json.dumps({\"queue\": \"get\"}).encode()\n",
    "            s.sendall(data)\n",
    "            data = s.recv(65536)\n",
    "            rec = json.loads(data)\n",
    "            agents = rec['data']\n",
    "            img = deepcopy(back_img)\n",
    "            for k, v in enumerate(agents.values()):\n",
    "                for i in range(len(v)-1):\n",
    "                    cv2.line(img, (v[i][1],v[i][0]), (v[i+1][1],v[i+1][0]), colors[k], 2)\n",
    "            cv2.imshow('image',img)\n",
    "        except:\n",
    "            continue\n",
    "\n",
    "    k = cv2.waitKey(1)\n",
    "    if k == 27:         # wait for ESC key to exit\n",
    "        cv2.destroyAllWindows()\n",
    "        cv2.destroyAllWindows()\n",
    "cv2.destroyAllWindows()"
   ]
  },
  {
   "cell_type": "code",
   "execution_count": null,
   "metadata": {},
   "outputs": [],
   "source": [
    "cv2.destroyAllWindows()"
   ]
  },
  {
   "cell_type": "code",
   "execution_count": null,
   "metadata": {},
   "outputs": [],
   "source": []
  }
 ],
 "metadata": {
  "kernelspec": {
   "display_name": "Python 3",
   "language": "python",
   "name": "python3"
  },
  "language_info": {
   "codemirror_mode": {
    "name": "ipython",
    "version": 3
   },
   "file_extension": ".py",
   "mimetype": "text/x-python",
   "name": "python",
   "nbconvert_exporter": "python",
   "pygments_lexer": "ipython3",
   "version": "3.6.5"
  }
 },
 "nbformat": 4,
 "nbformat_minor": 2
}
