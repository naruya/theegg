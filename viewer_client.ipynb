{
 "cells": [
  {
   "cell_type": "code",
   "execution_count": 2,
   "metadata": {},
   "outputs": [
    {
     "name": "stdout",
     "output_type": "stream",
     "text": [
      "dict_keys([])\n"
     ]
    }
   ],
   "source": [
    "import socket\n",
    "import json\n",
    "PORT = 4423\n",
    "\n",
    "data = {\"queue\": \"get_all\"}\n",
    "data = json.dumps(data).encode()\n",
    "\n",
    "\n",
    "with socket.socket(socket.AF_INET, socket.SOCK_STREAM) as s:\n",
    "    s.connect(('127.0.0.1', PORT))\n",
    "    s.sendall(data)\n",
    "    data = s.recv(65536)\n",
    "    rec = json.loads(data)\n",
    "    print(rec['data'].keys())\n",
    "\n",
    "agents = rec['data']\n",
    "\n",
    "colors = [(0,0,0), (0,0,127), (0,0,255), \n",
    "          (0,127,0), (0,127,127), (0,127,255), \n",
    "          (0,255,0), (0,255,127), (0,255,255), \n",
    "          (127,0,0)]"
   ]
  },
  {
   "cell_type": "code",
   "execution_count": 3,
   "metadata": {},
   "outputs": [
    {
     "ename": "KeyboardInterrupt",
     "evalue": "",
     "output_type": "error",
     "traceback": [
      "\u001b[0;31m---------------------------------------------------------------------------\u001b[0m",
      "\u001b[0;31mKeyboardInterrupt\u001b[0m                         Traceback (most recent call last)",
      "\u001b[0;32m<ipython-input-3-f861ab7295f1>\u001b[0m in \u001b[0;36m<module>\u001b[0;34m()\u001b[0m\n\u001b[1;32m     23\u001b[0m             \u001b[0;32mcontinue\u001b[0m\u001b[0;34m\u001b[0m\u001b[0m\n\u001b[1;32m     24\u001b[0m \u001b[0;34m\u001b[0m\u001b[0m\n\u001b[0;32m---> 25\u001b[0;31m     \u001b[0mk\u001b[0m \u001b[0;34m=\u001b[0m \u001b[0mcv2\u001b[0m\u001b[0;34m.\u001b[0m\u001b[0mwaitKey\u001b[0m\u001b[0;34m(\u001b[0m\u001b[0;36m1\u001b[0m\u001b[0;34m)\u001b[0m\u001b[0;34m\u001b[0m\u001b[0m\n\u001b[0m\u001b[1;32m     26\u001b[0m     \u001b[0;32mif\u001b[0m \u001b[0mk\u001b[0m \u001b[0;34m==\u001b[0m \u001b[0;36m27\u001b[0m\u001b[0;34m:\u001b[0m         \u001b[0;31m# wait for ESC key to exit\u001b[0m\u001b[0;34m\u001b[0m\u001b[0m\n\u001b[1;32m     27\u001b[0m         \u001b[0mcv2\u001b[0m\u001b[0;34m.\u001b[0m\u001b[0mdestroyAllWindows\u001b[0m\u001b[0;34m(\u001b[0m\u001b[0;34m)\u001b[0m\u001b[0;34m\u001b[0m\u001b[0m\n",
      "\u001b[0;31mKeyboardInterrupt\u001b[0m: "
     ]
    }
   ],
   "source": [
    "import numpy as np\n",
    "import cv2\n",
    "from copy import deepcopy\n",
    "\n",
    "back_img = cv2.imread('data/back.png')\n",
    "back_img = cv2.resize(back_img, (640, 480))\n",
    "\n",
    "for t in range(10000000):\n",
    "    with socket.socket(socket.AF_INET, socket.SOCK_STREAM) as s:\n",
    "        try:\n",
    "            s.connect(('127.0.0.1', PORT))\n",
    "            data = json.dumps({\"queue\": \"get_all\"}).encode()\n",
    "            s.sendall(data)\n",
    "            data = s.recv(65536)\n",
    "            rec = json.loads(data)\n",
    "            agents = rec['data']\n",
    "            img = deepcopy(back_img)\n",
    "            for k, v in enumerate(agents.values()):\n",
    "                for i in range(len(v)-1):\n",
    "                    cv2.line(img, (v[i][1],v[i][0]), (v[i+1][1],v[i+1][0]), colors[k], 2)\n",
    "            cv2.imshow('image',img)\n",
    "        except:\n",
    "            continue\n",
    "\n",
    "    k = cv2.waitKey(1)\n",
    "    if k == 27:         # wait for ESC key to exit\n",
    "        cv2.destroyAllWindows()\n",
    "cv2.destroyAllWindows()"
   ]
  },
  {
   "cell_type": "code",
   "execution_count": 25,
   "metadata": {},
   "outputs": [],
   "source": [
    "cv2.destroyAllWindows()"
   ]
  },
  {
   "cell_type": "code",
   "execution_count": 22,
   "metadata": {},
   "outputs": [
    {
     "name": "stdout",
     "output_type": "stream",
     "text": [
      "(480, 640, 4)\n"
     ]
    }
   ],
   "source": [
    "img = cv2.imread('data/back.png', -1)\n",
    "img = cv2.resize(img, (640, 480))\n",
    "cv2.imshow('image',img)\n",
    "k = cv2.waitKey(0)\n",
    "if k == 27:         # wait for ESC key to exit\n",
    "    cv2.destroyAllWindows()\n",
    "print(img.shape)\n",
    "canvas = np.zeros([480, 640])\n",
    "cv2.line(img, (63,47), (639,479), (255,0,0), 2)\n",
    "# cv2.line(img, (63,47), (128,96), (255,0,0), 2)\n",
    "cv2.imshow('image',img)\n",
    "k = cv2.waitKey(0)\n",
    "if k == 27:         # wait for ESC key to exit\n",
    "    cv2.destroyAllWindows()"
   ]
  },
  {
   "cell_type": "code",
   "execution_count": 11,
   "metadata": {},
   "outputs": [
    {
     "data": {
      "text/plain": [
       "array([[255, 255, 255, 255, 255, 255, 255, 255, 255, 255],\n",
       "       [255, 255, 255, 255, 255, 255, 255, 255, 255, 255],\n",
       "       [255, 255, 255, 255, 255, 255, 255, 255, 255, 255],\n",
       "       [255, 255, 255, 255, 255, 255, 255, 255, 255, 255],\n",
       "       [255, 255, 255, 255, 255, 255, 255, 255, 255, 255],\n",
       "       [255, 255, 255, 255, 255, 255, 255, 255, 255, 255],\n",
       "       [255, 255, 255, 255, 255, 255, 255, 255, 255, 255],\n",
       "       [255, 255, 255, 255, 255, 255, 255, 255, 255, 255],\n",
       "       [255, 255, 255, 255, 255, 255, 255, 255, 255, 255],\n",
       "       [255, 255, 255, 255, 255, 255, 255, 255, 255, 255]], dtype=uint8)"
      ]
     },
     "execution_count": 11,
     "metadata": {},
     "output_type": "execute_result"
    }
   ],
   "source": [
    "img[0:10,0:10,3]"
   ]
  },
  {
   "cell_type": "code",
   "execution_count": 23,
   "metadata": {},
   "outputs": [
    {
     "data": {
      "text/plain": [
       "array([[255, 255, 255, 255, 255, 255, 255, 255, 255, 255],\n",
       "       [  0,   0, 255, 255, 255, 255, 255, 255, 255, 255],\n",
       "       [  0,   0,   0, 255, 255, 255, 255, 255, 255, 255],\n",
       "       [  0,   0,   0,   0, 255, 255, 255, 255, 255, 255],\n",
       "       [  0,   0,   0,   0,   0,   0, 255, 255, 255, 255],\n",
       "       [255,   0,   0,   0,   0,   0,   0, 255, 255, 255],\n",
       "       [255, 255, 255,   0,   0,   0,   0,   0, 255, 255],\n",
       "       [255, 255, 255, 255,   0,   0,   0,   0,   0,   0],\n",
       "       [255, 255, 255, 255, 255,   0,   0,   0,   0,   0],\n",
       "       [255, 255, 255, 255, 255, 255, 255,   0,   0,   0]], dtype=uint8)"
      ]
     },
     "execution_count": 23,
     "metadata": {},
     "output_type": "execute_result"
    }
   ],
   "source": [
    "img[-10:,-10:,3]"
   ]
  },
  {
   "cell_type": "code",
   "execution_count": null,
   "metadata": {},
   "outputs": [],
   "source": []
  }
 ],
 "metadata": {
  "kernelspec": {
   "display_name": "Python 3",
   "language": "python",
   "name": "python3"
  },
  "language_info": {
   "codemirror_mode": {
    "name": "ipython",
    "version": 3
   },
   "file_extension": ".py",
   "mimetype": "text/x-python",
   "name": "python",
   "nbconvert_exporter": "python",
   "pygments_lexer": "ipython3",
   "version": "3.6.5"
  }
 },
 "nbformat": 4,
 "nbformat_minor": 2
}
