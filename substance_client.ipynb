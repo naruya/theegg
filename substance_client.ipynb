{
 "cells": [
  {
   "cell_type": "code",
   "execution_count": 1,
   "metadata": {},
   "outputs": [],
   "source": [
    "import pickle\n",
    "import json\n",
    "import numpy as np\n",
    "import socket\n",
    "import time\n",
    "import numpy as np\n",
    "from numpy.random import uniform\n",
    "from numpy.random import randint\n",
    "from numpy.random import choice\n",
    "\n",
    "PORT = 4424\n",
    "\n",
    "class Substance(object):\n",
    "    def __init__(self, name, v):\n",
    "        self.name = name\n",
    "        self.v = v\n",
    "    def update(self):\n",
    "        try:\n",
    "            self.post()\n",
    "        except:\n",
    "            pass\n",
    "        \n",
    "    def post(self):\n",
    "        data = {\"queue\": \"post\", \n",
    "                \"data\": {\"name\": self.name, \"vertices\": self.v}}\n",
    "        data = json.dumps(data).encode()\n",
    "        with socket.socket(socket.AF_INET, socket.SOCK_STREAM) as s:\n",
    "            s.connect(('127.0.0.1', PORT))\n",
    "            s.sendall(data)\n",
    "            data = s.recv(65536)"
   ]
  },
  {
   "cell_type": "code",
   "execution_count": 2,
   "metadata": {},
   "outputs": [],
   "source": [
    "v = np.zeros([101*2, 2])\n",
    "for i in range(202):\n",
    "    v[i,0] = 400+(i//101)*10\n",
    "    v[i,1] = (i%101)/100*640\n",
    "v[101:,1] = v[101:,1][::-1]\n",
    "v = v.tolist()\n",
    "v = [[int(vi[0]), int(vi[1])] for vi in v]"
   ]
  },
  {
   "cell_type": "code",
   "execution_count": 3,
   "metadata": {},
   "outputs": [],
   "source": [
    "substances = {}\n",
    "substances[0] = Substance(\"floor0\", v)"
   ]
  },
  {
   "cell_type": "code",
   "execution_count": 4,
   "metadata": {
    "scrolled": true
   },
   "outputs": [],
   "source": [
    "for t in range(10000):\n",
    "    [substance.update() for substance in substances.values()]\n",
    "    time.sleep(0.1)"
   ]
  }
 ],
 "metadata": {
  "kernelspec": {
   "display_name": "Python 3",
   "language": "python",
   "name": "python3"
  },
  "language_info": {
   "codemirror_mode": {
    "name": "ipython",
    "version": 3
   },
   "file_extension": ".py",
   "mimetype": "text/x-python",
   "name": "python",
   "nbconvert_exporter": "python",
   "pygments_lexer": "ipython3",
   "version": "3.6.5"
  }
 },
 "nbformat": 4,
 "nbformat_minor": 2
}
